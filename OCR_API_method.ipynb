{
 "cells": [
  {
   "cell_type": "code",
   "execution_count": 1,
   "metadata": {},
   "outputs": [],
   "source": [
    "import io\n",
    "import json\n",
    "import cv2\n",
    "import numpy as np\n",
    "import requests\n",
    "img = cv2.imread(\"book.jpg\")\n",
    "height, width, _ = img.shape"
   ]
  },
  {
   "cell_type": "code",
   "execution_count": 2,
   "metadata": {},
   "outputs": [],
   "source": [
    "url_api = \"https://api.ocr.space/parse/image\"\n",
    "_, compressedimage = cv2.imencode(\".jpg\", img, [1, 90])\n",
    "file_bytes = io.BytesIO(compressedimage)"
   ]
  },
  {
   "cell_type": "code",
   "execution_count": 3,
   "metadata": {},
   "outputs": [],
   "source": [
    "result = requests.post(url_api,\n",
    "              files = {\"Downloads/book.jpg\": file_bytes},\n",
    "              data = {\"apikey\": \"97111fe32288957\",\n",
    "                      \"language\": \"eng\"})\n",
    "result = result.content.decode()\n",
    "result = json.loads(result)"
   ]
  },
  {
   "cell_type": "code",
   "execution_count": 4,
   "metadata": {},
   "outputs": [
    {
     "name": "stdout",
     "output_type": "stream",
     "text": [
      "{'ParsedResults': [{'TextOverlay': {'Lines': [], 'HasOverlay': False, 'Message': 'Text overlay is not provided as it is not requested'}, 'TextOrientation': '0', 'FileParseExitCode': 1, 'ParsedText': 'FOREWORD\\r\\nT were well could one of the \" Men I have painted \"\\r\\ntake up the pen and contribute a character sketch of\\r\\nthe \" Man who has painted me \" for among all these\\r\\nliving and admirable studies, it is doubtful if there is\\r\\none individuality more unusual or more interesting than\\r\\nthat of the writer himself. To me, the lucky chance (if\\r\\nanything in this world is chance) that brought John McLure\\r\\nHamilton to my Hawarden home in the early \\'nineties was\\r\\ninvaluable, for it was the beginning of a deeply valued\\r\\nfriendship, of an intercourse rich in experience. Had I the\\r\\npen ofa De Morgan, let alone the tongue of men and angels,\\r\\na book might have been written on the five (in their different\\r\\nways) unique members of this family, a book which would\\r\\nhave surpassed even Joseph Vance or Alice for Short. May\\r\\nI hope to have the chance in another world.\\r\\nI can never forget the moment when Mr. Hamilton,\\r\\nafter a day or two spent anonymously in the Temple of\\r\\nPeace (Hawarden Castle), came into the library and asked\\r\\nI must first explain\\r\\nus to come and look at his picture.\\r\\nthat Mr. Gladstone had a habit of concentration, acquired\\r\\nby long years of self-discipline, that resulted in complete\\r\\nignorance of the presence of others, were they strangers or\\r\\nfriends, in his room. So long as they read or worked in\\r\\n7\\r\\n', 'ErrorMessage': '', 'ErrorDetails': ''}], 'OCRExitCode': 1, 'IsErroredOnProcessing': False, 'ProcessingTimeInMilliseconds': '33859', 'SearchablePDFURL': 'Searchable PDF not generated as it was not requested.'}\n"
     ]
    }
   ],
   "source": [
    "parsed_results = result.get(\"ParsedResults\")[0]\n",
    "text_detected = parsed_results.get(\"ParsedText\")\n",
    "print(result)"
   ]
  },
  {
   "cell_type": "code",
   "execution_count": null,
   "metadata": {},
   "outputs": [],
   "source": []
  }
 ],
 "metadata": {
  "kernelspec": {
   "display_name": "Python 3",
   "language": "python",
   "name": "python3"
  },
  "language_info": {
   "codemirror_mode": {
    "name": "ipython",
    "version": 3
   },
   "file_extension": ".py",
   "mimetype": "text/x-python",
   "name": "python",
   "nbconvert_exporter": "python",
   "pygments_lexer": "ipython3",
   "version": "3.7.6"
  }
 },
 "nbformat": 4,
 "nbformat_minor": 4
}
