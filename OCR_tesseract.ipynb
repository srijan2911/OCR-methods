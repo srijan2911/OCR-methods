{
 "cells": [
  {
   "cell_type": "code",
   "execution_count": 1,
   "metadata": {},
   "outputs": [],
   "source": [
    "from PIL import Image\n",
    "import pytesseract\n",
    "import cv2\n",
    "import numpy as np"
   ]
  },
  {
   "cell_type": "code",
   "execution_count": 2,
   "metadata": {},
   "outputs": [],
   "source": [
    "im = cv2.imread(\"Downloads/book.jpg\")\n",
    "img = cv2.resize(im, None, fx=0.5, fy=0.5)\n",
    "gray = cv2.cvtColor(img, cv2.COLOR_BGR2GRAY)\n",
    "adaptive_threshold = cv2.adaptiveThreshold(gray, 255, cv2.ADAPTIVE_THRESH_GAUSSIAN_C, cv2.THRESH_BINARY, 75, 26)"
   ]
  },
  {
   "cell_type": "code",
   "execution_count": null,
   "metadata": {},
   "outputs": [],
   "source": []
  },
  {
   "cell_type": "code",
   "execution_count": 3,
   "metadata": {},
   "outputs": [
    {
     "name": "stdout",
     "output_type": "stream",
     "text": [
      "FOREWORD\n",
      "\n",
      "ET were well could one of the “Men I have painted”\n",
      "take up the pen and contribute @ character sketch of\n",
      "the “Man who has painted me\": for among all these\n",
      "Hiving azd admirable studies, it is doubtful if there is\n",
      "\n",
      "one individuality more unusual or more interesting than\n",
      "\n",
      "that of the writer himself, To me, the tucky chance (if\n",
      "anything in this world is chance) that brought John McLure\n",
      "\n",
      "Hamilton to my Hawarden home in the early ‘nineties was\n",
      "\n",
      "invaluable, for it wae the beginning of a deeply valued\n",
      "\n",
      "friendship, of an intercourse rich in experience. Had I the\n",
      "pen of a De Morgan, let alone the tongue of men and angels,\n",
      "\n",
      "a book might have been written on the five (in their different\n",
      "\n",
      "ways) unique members of this family, a book which would\n",
      "\n",
      "have surpassed even Joseph Vance or Alice for Short. May\n",
      "\n",
      "I hope to have the chance in another world.\n",
      "\n",
      "I can never forget the moment when Mr. Hamilton,\n",
      "after a day or two spent anonymously in the Temple of\n",
      "Peace (Hawarden Castle), came into the library and asked\n",
      "us to come and look at his picture, I must first explain\n",
      "that Mr. Gladstone had a habit of concentration, acquired\n",
      "Be long years of self-discipline, that resulted in comptete\n",
      "ignorance of the presence of others, were they strangers or\n",
      "\n",
      "friends, in his room, So long as they read or worked in\n",
      "7\n"
     ]
    }
   ],
   "source": [
    "text = pytesseract.image_to_string(adaptive_threshold)\n",
    "print(text)"
   ]
  },
  {
   "cell_type": "code",
   "execution_count": null,
   "metadata": {},
   "outputs": [],
   "source": [
    "cv2.imshow(\"Img\", adaptive_threshold)\n",
    "cv2.waitKey(0)\n",
    "cv2.destroyAllWindows()"
   ]
  },
  {
   "cell_type": "code",
   "execution_count": null,
   "metadata": {},
   "outputs": [],
   "source": []
  }
 ],
 "metadata": {
  "kernelspec": {
   "display_name": "Python 3",
   "language": "python",
   "name": "python3"
  },
  "language_info": {
   "codemirror_mode": {
    "name": "ipython",
    "version": 3
   },
   "file_extension": ".py",
   "mimetype": "text/x-python",
   "name": "python",
   "nbconvert_exporter": "python",
   "pygments_lexer": "ipython3",
   "version": "3.7.6"
  }
 },
 "nbformat": 4,
 "nbformat_minor": 4
}
